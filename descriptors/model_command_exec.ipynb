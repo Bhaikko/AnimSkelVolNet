{
 "cells": [
  {
   "cell_type": "code",
   "execution_count": 1,
   "metadata": {},
   "outputs": [],
   "source": [
    "import os\n",
    "import subprocess"
   ]
  },
  {
   "cell_type": "code",
   "execution_count": 2,
   "metadata": {},
   "outputs": [],
   "source": [
    "cwd = os.getcwd()\n",
    "os.chdir(cwd) \n"
   ]
  },
  {
   "cell_type": "code",
   "execution_count": 3,
   "metadata": {},
   "outputs": [],
   "source": [
    "curveindexFolderName = 'curveindex'\n",
    "shapeIndexFolderName = 'shapeindex'"
   ]
  },
  {
   "cell_type": "code",
   "execution_count": 4,
   "metadata": {},
   "outputs": [],
   "source": [
    "def moveFiles(obj):\n",
    "    os.rename(f'.\\\\{obj}_curveindex.txt', f'.\\\\..\\\\data\\\\{curveindexFolderName}\\\\{obj}_curveindex.txt')\n",
    "    os.rename(f'.\\\\{obj}_shapeindex.txt', f'.\\\\..\\\\data\\\\{shapeIndexFolderName}\\\\{obj}_shapeindex.txt')\n",
    "    pass"
   ]
  },
  {
   "cell_type": "code",
   "execution_count": 5,
   "metadata": {},
   "outputs": [],
   "source": [
    "def processFiles(obj):\n",
    "    os.remove(f\"{obj}_gaussian.txt\")\n",
    "    os.remove(f\"{obj}_k1.txt\")\n",
    "    os.remove(f\"{obj}_k2.txt\")\n",
    "    os.remove(f\"{obj}_mean.txt\")\n",
    "\n",
    "    moveFiles(obj)\n",
    "    pass"
   ]
  },
  {
   "cell_type": "code",
   "execution_count": 6,
   "metadata": {},
   "outputs": [
    {
     "name": "stdout",
     "output_type": "stream",
     "text": [
      "Models Processed: [12]\r"
     ]
    }
   ],
   "source": [
    "files_processed = 0\n",
    "\n",
    "with open(\"commands.txt\", 'r+') as commandsFile:\n",
    "    for command in commandsFile:\n",
    "        if command == \"\\n\":\n",
    "            continue\n",
    "\n",
    "        # print(command)\n",
    "        p = subprocess.Popen(command, cwd = os.getcwd(), shell = True)\n",
    "        p.wait()\n",
    "        \n",
    "        objname = command.split(\" \")[-2]\n",
    "        # print(objname)\n",
    "        files_processed += 1\n",
    "        print('Models Processed: [%d]\\r'%files_processed, end=\"\")\n",
    "\n",
    "        processFiles(objname)\n",
    " \n",
    "    "
   ]
  },
  {
   "cell_type": "code",
   "execution_count": null,
   "metadata": {},
   "outputs": [],
   "source": []
  }
 ],
 "metadata": {
  "interpreter": {
   "hash": "ef1a5d0b392b78fa6b938496ed158b31a5708e64beeadf2ab287f2b43192d531"
  },
  "kernelspec": {
   "display_name": "Python 3.10.2 64-bit",
   "language": "python",
   "name": "python3"
  },
  "language_info": {
   "codemirror_mode": {
    "name": "ipython",
    "version": 3
   },
   "file_extension": ".py",
   "mimetype": "text/x-python",
   "name": "python",
   "nbconvert_exporter": "python",
   "pygments_lexer": "ipython3",
   "version": "3.10.2"
  },
  "orig_nbformat": 4
 },
 "nbformat": 4,
 "nbformat_minor": 2
}
