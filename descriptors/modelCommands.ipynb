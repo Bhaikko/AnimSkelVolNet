{
 "cells": [
  {
   "cell_type": "code",
   "execution_count": 2,
   "metadata": {},
   "outputs": [],
   "source": [
    "import os"
   ]
  },
  {
   "cell_type": "code",
   "execution_count": 28,
   "metadata": {},
   "outputs": [],
   "source": [
    "# directory = os.fsencode('./../data/obj')\n",
    "# Uses windows paths\n",
    "directory = '.\\\\..\\\\data\\\\obj'\n",
    "file_path = '.\\\\'\n",
    "command = '.\\\\..\\\\bin\\\\ShapeDescriptorsExec.exe'"
   ]
  },
  {
   "cell_type": "code",
   "execution_count": 29,
   "metadata": {},
   "outputs": [],
   "source": [
    "commandsFile = open(file_path + \"commands.txt\", 'w+')"
   ]
  },
  {
   "cell_type": "code",
   "execution_count": 30,
   "metadata": {},
   "outputs": [],
   "source": [
    "def commandToFile(filepath, command, filename):\n",
    "    commandsFile.write(f'{command} {filepath} {filename}_curv \\n')\n",
    "    "
   ]
  },
  {
   "cell_type": "code",
   "execution_count": 31,
   "metadata": {},
   "outputs": [],
   "source": [
    "for file in os.listdir(directory):\n",
    "    f = os.path.join(directory, file)\n",
    "    filename = f.split(\"\\\\\")[-1].split(\".\")[0]\n",
    "    \n",
    "    commandToFile(str(f), f'{command} -c', filename)\n",
    "\n",
    "commandsFile.close()\n"
   ]
  },
  {
   "cell_type": "code",
   "execution_count": null,
   "metadata": {},
   "outputs": [],
   "source": []
  }
 ],
 "metadata": {
  "interpreter": {
   "hash": "31f2aee4e71d21fbe5cf8b01ff0e069b9275f58929596ceb00d14d90e3e16cd6"
  },
  "kernelspec": {
   "display_name": "Python 3.6.9 64-bit",
   "language": "python",
   "name": "python3"
  },
  "language_info": {
   "codemirror_mode": {
    "name": "ipython",
    "version": 3
   },
   "file_extension": ".py",
   "mimetype": "text/x-python",
   "name": "python",
   "nbconvert_exporter": "python",
   "pygments_lexer": "ipython3",
   "version": "3.10.2"
  },
  "orig_nbformat": 4
 },
 "nbformat": 4,
 "nbformat_minor": 2
}
