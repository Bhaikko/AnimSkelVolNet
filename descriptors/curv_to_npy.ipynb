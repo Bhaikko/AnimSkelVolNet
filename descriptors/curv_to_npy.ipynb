{
 "cells": [
  {
   "cell_type": "code",
   "execution_count": 117,
   "metadata": {},
   "outputs": [],
   "source": [
    "import numpy as np\n",
    "import os"
   ]
  },
  {
   "cell_type": "code",
   "execution_count": 118,
   "metadata": {},
   "outputs": [],
   "source": [
    "data_directory = './../data/curveindex/'\n",
    "# data_directory = './../data/shapeindex/'"
   ]
  },
  {
   "cell_type": "code",
   "execution_count": 119,
   "metadata": {},
   "outputs": [],
   "source": [
    "save_directory = './../data/curveindex_npy/'\n",
    "# save_directory = './../data/shapeindex_npy/'"
   ]
  },
  {
   "cell_type": "code",
   "execution_count": 122,
   "metadata": {},
   "outputs": [
    {
     "name": "stdout",
     "output_type": "stream",
     "text": [
      "Files Converted: [4]\r"
     ]
    }
   ],
   "source": [
    "files_processed = 0\n",
    "\n",
    "for file in os.listdir(data_directory):\n",
    "    f = os.path.join(data_directory, file)\n",
    "    filename = f.split(\"/\")[-1].split(\".\")[0]\n",
    "\n",
    "    filedata = np.loadtxt(f, dtype = 'float16')\n",
    "    filedata.resize((82, 82, 82))\n",
    "\n",
    "    np.save(save_directory + filename, filedata)\n",
    "    # os.remove(data_directory + filename + '.txt')\n",
    "    \n",
    "    files_processed += 1\n",
    "    print('Files Converted: [%d]\\r'%files_processed, end=\"\")\n",
    "\n",
    "\n",
    "    "
   ]
  },
  {
   "cell_type": "code",
   "execution_count": null,
   "metadata": {},
   "outputs": [],
   "source": []
  }
 ],
 "metadata": {
  "interpreter": {
   "hash": "ef1a5d0b392b78fa6b938496ed158b31a5708e64beeadf2ab287f2b43192d531"
  },
  "kernelspec": {
   "display_name": "Python 3.10.2 64-bit",
   "language": "python",
   "name": "python3"
  },
  "language_info": {
   "codemirror_mode": {
    "name": "ipython",
    "version": 3
   },
   "file_extension": ".py",
   "mimetype": "text/x-python",
   "name": "python",
   "nbconvert_exporter": "python",
   "pygments_lexer": "ipython3",
   "version": "3.10.2"
  },
  "orig_nbformat": 4
 },
 "nbformat": 4,
 "nbformat_minor": 2
}
