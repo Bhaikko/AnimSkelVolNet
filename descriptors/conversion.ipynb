{
 "cells": [
  {
   "cell_type": "code",
   "execution_count": 10,
   "metadata": {},
   "outputs": [],
   "source": [
    "import numpy"
   ]
  },
  {
   "cell_type": "code",
   "execution_count": 11,
   "metadata": {},
   "outputs": [
    {
     "name": "stdout",
     "output_type": "stream",
     "text": [
      "Keys: <KeysViewHDF5 ['test_ci', 'test_cs', 'test_curvature', 'test_data', 'test_label_bone', 'test_label_joint', 'test_sd', 'test_si', 'test_vert', 'train_ci', 'train_cs', 'train_curvature', 'train_data', 'train_label_bone', 'train_label_joint', 'train_sd', 'train_si', 'train_vert', 'val_ci', 'val_cs', 'val_curvature', 'val_data', 'val_label_bone', 'val_label_joint', 'val_sd', 'val_si', 'val_vert']>\n"
     ]
    }
   ],
   "source": [
    "import h5py\n",
    "filename = \"./../input/model-resource-volumetric.h5\"\n",
    "\n",
    "with h5py.File(filename, \"r\") as f:\n",
    "    # List all groups\n",
    "    print(\"Keys: %s\" % f.keys())\n",
    "    a_group_key = list(f.keys())[0]"
   ]
  },
  {
   "cell_type": "code",
   "execution_count": null,
   "metadata": {},
   "outputs": [],
   "source": []
  }
 ],
 "metadata": {
  "interpreter": {
   "hash": "31f2aee4e71d21fbe5cf8b01ff0e069b9275f58929596ceb00d14d90e3e16cd6"
  },
  "kernelspec": {
   "display_name": "Python 3.6.9 64-bit",
   "language": "python",
   "name": "python3"
  },
  "language_info": {
   "codemirror_mode": {
    "name": "ipython",
    "version": 3
   },
   "file_extension": ".py",
   "mimetype": "text/x-python",
   "name": "python",
   "nbconvert_exporter": "python",
   "pygments_lexer": "ipython3",
   "version": "3.6.9"
  },
  "orig_nbformat": 4
 },
 "nbformat": 4,
 "nbformat_minor": 2
}
